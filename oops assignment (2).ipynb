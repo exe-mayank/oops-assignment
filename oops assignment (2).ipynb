{
  "metadata": {
    "kernelspec": {
      "name": "python",
      "display_name": "Python (Pyodide)",
      "language": "python"
    },
    "language_info": {
      "codemirror_mode": {
        "name": "python",
        "version": 3
      },
      "file_extension": ".py",
      "mimetype": "text/x-python",
      "name": "python",
      "nbconvert_exporter": "python",
      "pygments_lexer": "ipython3",
      "version": "3.8"
    }
  },
  "nbformat_minor": 5,
  "nbformat": 4,
  "cells": [
    {
      "id": "344e8557-60e3-42b3-ac02-f21a4e44ad4e",
      "cell_type": "code",
      "source": "# 1. What are the five key concepts of Object-Oriented Programming (OOP)?",
      "metadata": {},
      "outputs": [],
      "execution_count": null
    },
    {
      "id": "7f480211-f547-4231-b96c-c4112bdbcecb",
      "cell_type": "markdown",
      "source": "Object Oriented Programming is a fundamental concept in Python, empowering developers to build modular, maintainable, and scalable applications. By understanding the core OOP principles—classes, objects, inheritance, encapsulation, polymorphism, and abstraction—programmers can leverage the full potential of Python’s OOP capabilities to design elegant and efficient solutions to complex problems.\n\n\nPython Class \nA class is a collection of objects. A class contains the blueprints or the prototype from which the objects are being created. It is a logical entity that contains some attributes and methods.\n\nPython Objects\nIn object oriented programming Python, The object is an entity that has a state and behavior associated with it. It may be any real-world object like a mouse, keyboard, chair, table, pen, etc. Integers, strings, floating-point numbers, even arrays, and dictionaries, are all objects. More specifically, any single integer or any single string is an object.\n\nPython Inheritance\nIn Python object oriented Programming, Inheritance is the capability of one class to derive or inherit the properties from another class. The class that derives properties is called the derived class or child class and the class from which the properties are being derived is called the base class or parent class.\n\nPython Polymorphism\nIn object oriented Programming Python, Polymorphism simply means having many forms. For example, we need to determine if the given species of birds fly or not, using polymorphism we can do this using a single function.\n\nPython Encapsulation\nIn Python object oriented programming, Encapsulation is one of the fundamental concepts in object-oriented programming (OOP). It describes the idea of wrapping data and the methods that work on data within one unit. This puts restrictions on accessing variables and methods directly and can prevent the accidental modification of data. To prevent accidental change, an object’s variable can only be changed by an object’s method. Those types of variables are known as private variables.\n\n\nData Abstraction \nIt hides unnecessary code details from the user. Also,  when we do not want to give out sensitive parts of our code implementation and this is where data abstraction came.\nData Abstraction in Python can be achieved by creating abstract classes.\n",
      "metadata": {}
    },
    {
      "id": "275db1f7-4298-406e-912d-f41df5d46c85",
      "cell_type": "code",
      "source": "# 2. Write a Python class for a `Car` with attributes for `make`, `model`, and `year`. Include a method to display the car's information.\n    \nclass Car:\n    def __init__(self, make, model, year):\n        self.make = make\n        self.model = model\n        self.year = year\n    \n    def display_info(self):\n        return f\"{self.year} {self.make} {self.model}\"\n    ",
      "metadata": {},
      "outputs": [],
      "execution_count": 1
    },
    {
      "id": "affb2e17-29ec-49c7-89c2-11ec763f3bc2",
      "cell_type": "code",
      "source": "my_car = Car(\"Toyota\", \"Camry\", 2021)\nprint(my_car.display_info())\n",
      "metadata": {},
      "outputs": [
        {
          "name": "stdout",
          "output_type": "stream",
          "text": [
            "2021 Toyota Camry\n"
          ]
        }
      ],
      "execution_count": 2
    },
    {
      "id": "b582206a-ae1d-47c1-8586-2ae7910534ae",
      "cell_type": "markdown",
      "source": "#3. Explain the difference between instance methods and class methods. Provide an example of each.\n\nClass Method in Python\nClass methods are associated with the class rather than instances. They are defined using the @classmethod decorator and take the class itself as the first parameter, usually named cls. Class methods are useful for tasks that involve the class rather than the instance, such as creating class-specific behaviors or modifying class-level attributes.",
      "metadata": {}
    },
    {
      "id": "5a2d8daa-fa88-4b7e-b83b-748898648c6e",
      "cell_type": "code",
      "source": "class MyClass:\n    class_variable = 0\n\n    def __init__(self, value):\n        self.instance_variable = value\n\n    @classmethod\n    def class_method(cls, x):\n        cls.class_variable += x\n        return cls.class_variable\n\n# Creating instances of the class\nobj1 = MyClass(5)\nobj2 = MyClass(10)\n\n# Calling the class method\nprint(MyClass.class_method(3))  \nprint(MyClass.class_method(7))  ",
      "metadata": {},
      "outputs": [
        {
          "name": "stdout",
          "output_type": "stream",
          "text": [
            "3\n",
            "10\n"
          ]
        }
      ],
      "execution_count": 3
    },
    {
      "id": "5628079b-d98f-4427-9bbd-80fbd5634af1",
      "cell_type": "markdown",
      "source": "Instance Method in Python\nInstance methods are the most common type of methods in Python classes. They are associated with instances of a class and operate on the instance’s data. When defining an instance method, the method’s first parameter is typically named self, which refers to the instance calling the method. This allows the method to access and manipulate the instance’s attributes.",
      "metadata": {}
    },
    {
      "id": "903016a7-7cfa-4034-a32d-d252a633757e",
      "cell_type": "code",
      "source": "class Person:\n    def __init__(self, name, age):\n        self.name = name\n        self.age = age\n\n    def introduce(self):\n        return f\"Hi, I'm {self.name} and I'm {self.age} years old.\"\n\n\n# Creating an instance of the class\nperson1 = Person(\"Kishan\", 20)\n\n# Calling the instance method\nprint(person1.introduce())  ",
      "metadata": {},
      "outputs": [
        {
          "name": "stdout",
          "output_type": "stream",
          "text": [
            "Hi, I'm Kishan and I'm 20 years old.\n"
          ]
        }
      ],
      "execution_count": 4
    },
    {
      "id": "6fb9b23e-6eb6-4ac6-8a07-3fde5e2daa1e",
      "cell_type": "markdown",
      "source": "# 4 How does Python implement method overloading? Give an example\n\nIn Python, overloading usually refers to the ability to define a method in multiple ways so that it can be called with different numbers of parameters or types. Python doesn’t support method overloading in the same way as languages like Java or C++, where you can define multiple methods with the same name but different parameters within the same class. However, Python does allow operator overloading, which means you can change the meaning of an operator depending on the operands used.\n\nwo or more methods have the same name but different numbers of parameters or different types of parameters, or both. These methods are called overloaded methods and this is called method overloading. ",
      "metadata": {}
    },
    {
      "id": "061f1fbb-9adc-4601-a8be-401651960e98",
      "cell_type": "code",
      "source": "# First product method.\n# Takes two argument and print their\n# product\n\n\ndef product(a, b):\n    p = a * b\n    print(p)\n\n# Second product method\n# Takes three argument and print their\n# product\n\n\ndef product(a, b, c):\n    p = a * b*c\n    print(p)\n\n# Uncommenting the below line shows an error\n# product(4, 5)\n\n\n# This line will call the second product method\nproduct(4, 5, 5)\n",
      "metadata": {},
      "outputs": [
        {
          "name": "stdout",
          "output_type": "stream",
          "text": [
            "100\n"
          ]
        }
      ],
      "execution_count": 5
    },
    {
      "id": "38aabae6-9334-4cc5-bbd8-769d1345e6e3",
      "cell_type": "markdown",
      "source": "# 5.What are the three types of access modifiers in Python? How are they denoted?\n\nEncapsulation is one of the four principles used in Object Oriented Paradigm. It is used to bind and hide data to the class. Data hiding is also referred as Scoping and the accessibility of a method or a field of a class can be changed by the developer. The implementation of scoping is different for different programming language.Access Modifiers can be categorized as Public, Protected and Private in a class.\n\nA Class in Python has three types of access modifiers:\n\nPublic Access Modifier: Theoretically, public methods and fields can be accessed directly by any class.\n\nProtected Access Modifier: Theoretically, protected methods and fields can be accessed within the same class it is declared and its subclass.\n\nPrivate Access Modifier: Theoretically, private methods and fields can be only accessed within the same class it is declared.",
      "metadata": {}
    },
    {
      "id": "e9b9d8f5-e2f4-4eee-9451-4b8cb578213a",
      "cell_type": "code",
      "source": "#Public Access Modifier:\n#The members of a class that are declared public are easily accessible from any part of the program. All data members and member functions of a class are public by default. \n\n# program to illustrate public access modifier in a class\n\n\nclass Geek:\n\n    # constructor\n    def __init__(self, name, age):\n\n        # public data members\n        self.geekName = name\n        self.geekAge = age\n\n    # public member function\n    def displayAge(self):\n\n        # accessing public data member\n        print(\"Age: \", self.geekAge)\n\n\n# creating object of the class\nobj = Geek(\"R2J\", 20)\n\n# finding all the fields and methods which are present inside obj\nprint(\"List of fields and methods inside obj:\", dir(obj))\n\n# accessing public data member\nprint(\"Name:\", obj.geekName)\n\n# calling public member function of the class\nobj.displayAge()\n",
      "metadata": {},
      "outputs": [
        {
          "name": "stdout",
          "output_type": "stream",
          "text": [
            "List of fields and methods inside obj: ['__class__', '__delattr__', '__dict__', '__dir__', '__doc__', '__eq__', '__format__', '__ge__', '__getattribute__', '__gt__', '__hash__', '__init__', '__init_subclass__', '__le__', '__lt__', '__module__', '__ne__', '__new__', '__reduce__', '__reduce_ex__', '__repr__', '__setattr__', '__sizeof__', '__str__', '__subclasshook__', '__weakref__', 'displayAge', 'geekAge', 'geekName']\n",
            "Name: R2J\n",
            "Age:  20\n"
          ]
        }
      ],
      "execution_count": 1
    },
    {
      "id": "918567b3-deb9-49c4-938b-526e07bae278",
      "cell_type": "code",
      "source": "#Protected Access Modifier:\n#The members of a class that are declared protected are only accessible within the class where it is declared and its subclass. \n#To implement protected field or method, the developer follows a specific convention mostly by adding prefix to the variable or function name. \n#Popularly, a single underscore “_” is used to describe a protected data member or method of the class.\n\n# program to illustrate protected access modifier in a class\n\n# super class\nclass Student:\n\n    # protected data members\n    _name = None\n    _roll = None\n    _branch = None\n\n    # constructor\n    def __init__(self, name, roll, branch):\n        self._name = name\n        self._roll = roll\n        self._branch = branch\n\n    # protected member function\n    def _displayRollAndBranch(self):\n\n        # accessing protected data members\n        print(\"Roll:\", self._roll)\n        print(\"Branch:\", self._branch)\n\n# derived class\nclass Geek(Student):\n\n    # constructor\n    def __init__(self, name, roll, branch):\n        Student.__init__(self, name, roll, branch)\n\n    # public member function\n    def displayDetails(self):\n\n              # accessing protected data members of super class\n        print(\"Name:\", self._name)\n\n        # accessing protected member functions of super class\n        self._displayRollAndBranch()\n\n\nstu = Student(\"Alpha\", 1234567, \"Computer Science\")\nprint(dir(stu))\n\n# protected members and methods can be still accessed\nprint(stu._name)\nstu._displayRollAndBranch()\n\n# Throws error\n# print(stu.name)\n# stu.displayRollAndBranch()\n\n# creating objects of the derived class\nobj = Geek(\"R2J\", 1706256, \"Information Technology\")\nprint(\"\")\nprint(dir(obj))\n\n# calling public member functions of the class\nobj.displayDetails()\n",
      "metadata": {},
      "outputs": [
        {
          "name": "stdout",
          "output_type": "stream",
          "text": [
            "['__class__', '__delattr__', '__dict__', '__dir__', '__doc__', '__eq__', '__format__', '__ge__', '__getattribute__', '__gt__', '__hash__', '__init__', '__init_subclass__', '__le__', '__lt__', '__module__', '__ne__', '__new__', '__reduce__', '__reduce_ex__', '__repr__', '__setattr__', '__sizeof__', '__str__', '__subclasshook__', '__weakref__', '_branch', '_displayRollAndBranch', '_name', '_roll']\n",
            "Alpha\n",
            "Roll: 1234567\n",
            "Branch: Computer Science\n",
            "\n",
            "['__class__', '__delattr__', '__dict__', '__dir__', '__doc__', '__eq__', '__format__', '__ge__', '__getattribute__', '__gt__', '__hash__', '__init__', '__init_subclass__', '__le__', '__lt__', '__module__', '__ne__', '__new__', '__reduce__', '__reduce_ex__', '__repr__', '__setattr__', '__sizeof__', '__str__', '__subclasshook__', '__weakref__', '_branch', '_displayRollAndBranch', '_name', '_roll', 'displayDetails']\n",
            "Name: R2J\n",
            "Roll: 1706256\n",
            "Branch: Information Technology\n"
          ]
        }
      ],
      "execution_count": 2
    },
    {
      "id": "4efa94af-d1de-41a3-8732-df586ad32682",
      "cell_type": "code",
      "source": "#Private Access Modifier:\n#The members of a class that are declared private are accessible within the class only, private access modifier is the most secure access modifier. \n#Data members of a class are declared private by adding a double underscore ‘__’ symbol before the data member of that class. \n\n# program to illustrate private access modifier in a class\n\nclass Geek:\n\n    # private members\n    __name = None\n    __roll = None\n    __branch = None\n\n    # constructor\n    def __init__(self, name, roll, branch):\n        self.__name = name\n        self.__roll = roll\n        self.__branch = branch\n\n    # private member function\n    def __displayDetails(self):\n\n        # accessing private data members\n        print(\"Name:\", self.__name)\n        print(\"Roll:\", self.__roll)\n        print(\"Branch:\", self.__branch)\n\n    # public member function\n    def accessPrivateFunction(self):\n\n        # accessing private member function\n        self.__displayDetails()\n\n# creating object\nobj = Geek(\"R2J\", 1706256, \"Information Technology\")\n\nprint(dir(obj))\nprint(\"\")\n\n# Throws error\n# obj.__name\n# obj.__roll\n# obj.__branch\n# obj.__displayDetails()\n\n# To access private members of a class\nprint(obj._Geek__name)\nprint(obj._Geek__roll)\nprint(obj._Geek__branch)\nobj._Geek__displayDetails()\n\nprint(\"\")\n\n# calling public member function of the class\nobj.accessPrivateFunction()\n",
      "metadata": {},
      "outputs": [
        {
          "name": "stdout",
          "output_type": "stream",
          "text": [
            "['_Geek__branch', '_Geek__displayDetails', '_Geek__name', '_Geek__roll', '__class__', '__delattr__', '__dict__', '__dir__', '__doc__', '__eq__', '__format__', '__ge__', '__getattribute__', '__gt__', '__hash__', '__init__', '__init_subclass__', '__le__', '__lt__', '__module__', '__ne__', '__new__', '__reduce__', '__reduce_ex__', '__repr__', '__setattr__', '__sizeof__', '__str__', '__subclasshook__', '__weakref__', 'accessPrivateFunction']\n",
            "\n",
            "R2J\n",
            "1706256\n",
            "Information Technology\n",
            "Name: R2J\n",
            "Roll: 1706256\n",
            "Branch: Information Technology\n",
            "\n",
            "Name: R2J\n",
            "Roll: 1706256\n",
            "Branch: Information Technology\n"
          ]
        }
      ],
      "execution_count": 3
    },
    {
      "id": "14a4e933-c59e-42ce-844f-0c165fc115a3",
      "cell_type": "markdown",
      "source": "# 6. Describe the five types of inheritance in Python. Provide a simple example of multiple inheritance.\n\nTypes of Inheritance depend upon the number of child and parent classes involved. There are five types of inheritance in Python:\n\nSingle Inheritance: \nSingle inheritance enables a derived class to inherit properties from a single parent class, thus enabling code reusability and the addition of new features to existing code.\n\nMultiple Inheritance: \nWhen a class can be derived from more than one base class this type of inheritance is called multiple inheritances. In multiple inheritances, all the features of the base classes are inherited into the derived class. \n\nMultilevel Inheritance :\nIn multilevel inheritance, features of the base class and the derived class are further inherited into the new derived class. This is similar to a relationship representing a child and a grandfather. \n\nHierarchical Inheritance: \nWhen more than one derived class are created from a single base this type of inheritance is called hierarchical inheritance. In this program, we have a parent (base) class and two child (derived) classes.\n\nHybrid Inheritance: \nInheritance consisting of multiple types of inheritance is called hybrid inheritance.",
      "metadata": {}
    },
    {
      "id": "cd565b35-7a3e-4e63-a1e8-2aee46e20a13",
      "cell_type": "code",
      "source": "# Python program to demonstrate\n# multiple inheritance\n\n# Base class1\nclass Mother:\n\tmothername = \"\"\n\n\tdef mother(self):\n\t\tprint(self.mothername)\n\n# Base class2\n\n\nclass Father:\n\tfathername = \"\"\n\n\tdef father(self):\n\t\tprint(self.fathername)\n\n# Derived class\n\n\nclass Son(Mother, Father):\n\tdef parents(self):\n\t\tprint(\"Father :\", self.fathername)\n\t\tprint(\"Mother :\", self.mothername)\n\n\n# Driver's code\ns1 = Son()\ns1.fathername = \"RAM\"\ns1.mothername = \"SITA\"\ns1.parents()\n",
      "metadata": {},
      "outputs": [
        {
          "name": "stdout",
          "output_type": "stream",
          "text": [
            "Father : RAM\n",
            "Mother : SITA\n"
          ]
        }
      ],
      "execution_count": 4
    },
    {
      "id": "efa38ccd-db7e-483c-a491-d37f608c8184",
      "cell_type": "markdown",
      "source": "# 7. What is the Method Resolution Order (MRO) in Python? How can you retrieve it programmatically?\n\nMethod Resolution Order : \nMethod Resolution Order(MRO) it denotes the way a programming language resolves a method or attribute. Python supports classes inheriting from other classes. The class being inherited is called the Parent or Superclass, while the class that inherits is called the Child or Subclass. In python, method resolution order defines the order in which the base classes are searched when executing a method. First, the method or attribute is searched within a class and then it follows the order we specified while inheriting. This order is also called Linearization of a class and set of rules are called MRO(Method Resolution Order). While inheriting from another class, the interpreter needs a way to resolve the methods that are being called via an instance.",
      "metadata": {}
    },
    {
      "id": "850729b3-ba9f-4ba2-b79d-ebb3761221ac",
      "cell_type": "code",
      "source": "class A:\n    def method(self):\n        print(\"A\")\n\nclass B(A):\n    def method(self):\n        print(\"B\")\n\nclass C(A):\n    def method(self):\n        print(\"C\")\n\nclass D(B, C):\n    pass\n\nd = D()\nd.method()  # Output: B\nprint(D.__mro__)  # Output: (<class '__main__.D'>, <class '__main__.B'>, <class '__main__.C'>, <class '__main__.A'>, <class 'object'>)",
      "metadata": {},
      "outputs": [
        {
          "name": "stdout",
          "output_type": "stream",
          "text": [
            "B\n",
            "(<class '__main__.D'>, <class '__main__.B'>, <class '__main__.C'>, <class '__main__.A'>, <class 'object'>)\n"
          ]
        }
      ],
      "execution_count": 5
    },
    {
      "id": "f62b86b2-804a-4bb2-a7ba-a5dabd968d3d",
      "cell_type": "code",
      "source": "# 8.  Create an abstract base class `Shape` with an abstract method `area()`. Then create two subclasses `Circle` and `Rectangle` that implement the `area()` method.\n\nfrom abc import ABC, abstractmethod\nimport math\n\n# Abstract base class\nclass Shape(ABC):\n    \n    @abstractmethod\n    def area(self):\n        pass\n\n# Subclass for Circle\nclass Circle(Shape):\n    \n    def __init__(self, radius):\n        self.radius = radius\n    \n    def area(self):\n        return math.pi * self.radius ** 2\n\n# Subclass for Rectangle\nclass Rectangle(Shape):\n    \n    def __init__(self, width, height):\n        self.width = width\n        self.height = height\n    \n    def area(self):\n        return self.width * self.height\n",
      "metadata": {},
      "outputs": [],
      "execution_count": 6
    },
    {
      "id": "2ac1eae5-43ff-40e3-bbe3-f031ad4ac453",
      "cell_type": "code",
      "source": "circle = Circle(5)\nrectangle = Rectangle(4, 6)\n\nprint(f\"Circle area: {circle.area()}\")\nprint(f\"Rectangle area: {rectangle.area()}\")\n",
      "metadata": {},
      "outputs": [
        {
          "name": "stdout",
          "output_type": "stream",
          "text": [
            "Circle area: 78.53981633974483\n",
            "Rectangle area: 24\n"
          ]
        }
      ],
      "execution_count": 7
    },
    {
      "id": "5ba0e3b0-309c-4bed-9ae0-8d9a4a6f6569",
      "cell_type": "code",
      "source": "#9.  Demonstrate polymorphism by creating a function that can work with different shape objects to calculate and print their areas.\n\n# we  can demonstrate polymorphism by creating a function that works with different shape objects to calculate and print their areas:\n\ndef print_area(shape):\n    print(f\"The area of the shape is: {shape.area()}\")\n\n# Example usage with polymorphism\ncircle = Circle(5)\nrectangle = Rectangle(4, 6)\n\n# Using the same function to calculate and print the area for different shapes\nprint_area(circle)      # Works with Circle\nprint_area(rectangle)   # Works with Rectangle\n\n\n",
      "metadata": {},
      "outputs": [
        {
          "name": "stdout",
          "output_type": "stream",
          "text": [
            "The area of the shape is: 78.53981633974483\n",
            "The area of the shape is: 24\n"
          ]
        }
      ],
      "execution_count": 8
    },
    {
      "id": "41a223f7-79a5-4c49-9d89-4b2382066050",
      "cell_type": "code",
      "source": "#The print_area function takes any object that is a subclass of Shape and calls the area() method, demonstrating polymorphism. \n#Both Circle and Rectangle instances are passed into the same function, and the correct area() method is called based on the actual type of the object (either Circle or Rectangle).",
      "metadata": {},
      "outputs": [],
      "execution_count": null
    },
    {
      "id": "4df83c8b-ade7-4785-82e2-5d2031c30f0d",
      "cell_type": "code",
      "source": "# 10. Implement encapsulation in a `BankAccount` class with private attributes for `balance` and `account_number`. Include methods for deposit, withdrawal, and balance inquiry.\n\n\n\n#Here's an implementation of encapsulation in a BankAccount class with private attributes for balance and account_number, and methods for deposit, withdrawal, and balance inquiry:\n\n\nclass BankAccount:\n    def __init__(self, account_number, initial_balance=0):\n        self.__account_number = account_number  # private attribute\n        self.__balance = initial_balance        # private attribute\n    \n    def deposit(self, amount):\n        if amount > 0:\n            self.__balance += amount\n            print(f\"Deposited {amount}. New balance: {self.__balance}\")\n        else:\n            print(\"Deposit amount must be positive.\")\n\n    def withdraw(self, amount):\n        if 0 < amount <= self.__balance:\n            self.__balance -= amount\n            print(f\"Withdrew {amount}. New balance: {self.__balance}\")\n        else:\n            print(\"Insufficient balance or invalid amount.\")\n    \n    def get_balance(self):\n        return self.__balance\n\n    def get_account_number(self):\n        return self.__account_number\n",
      "metadata": {},
      "outputs": [],
      "execution_count": 9
    },
    {
      "id": "a0aca169-1978-4264-9bc1-807a907efc49",
      "cell_type": "code",
      "source": "# Create a bank account with an initial balance\naccount = BankAccount(\"123456789\", 1000)\n\n# Deposit money\naccount.deposit(500)\n\n# Withdraw money\naccount.withdraw(200)\n\n# Check balance\nprint(f\"Current balance: {account.get_balance()}\")\n\n# Access account number\nprint(f\"Account number: {account.get_account_number()}\")\n",
      "metadata": {},
      "outputs": [
        {
          "name": "stdout",
          "output_type": "stream",
          "text": [
            "Deposited 500. New balance: 1500\n",
            "Withdrew 200. New balance: 1300\n",
            "Current balance: 1300\n",
            "Account number: 123456789\n"
          ]
        }
      ],
      "execution_count": 10
    },
    {
      "id": "21ea13d6-0d40-4b1d-89cb-89d97aad366b",
      "cell_type": "code",
      "source": "# 11. Write a class that overrides the `__str__` and `__add__` magic methods. What will these methods allow you to do?\n\n\n#Overriding the __str__ and __add__ magic methods allows for customized behavior when converting an object to a string and when adding two objects together.\n\nclass Book:\n    def __init__(self, title, author, pages):\n        self.title = title\n        self.author = author\n        self.pages = pages\n    \n    # Override the __str__ method to return a string representation of the object\n    def __str__(self):\n        return f\"'{self.title}' by {self.author}, {self.pages} pages\"\n    \n    # Override the __add__ method to allow adding pages of two Book objects\n    def __add__(self, other):\n        if isinstance(other, Book):\n            return self.pages + other.pages\n        return NotImplemented\n",
      "metadata": {},
      "outputs": [],
      "execution_count": 11
    },
    {
      "id": "3169f4a5-9a11-45c7-8f8b-a174f85b7163",
      "cell_type": "code",
      "source": "book1 = Book(\"1984\", \"George Orwell\", 328)\nbook2 = Book(\"Brave New World\", \"Aldous Huxley\", 268)\n\n# Using __str__\nprint(book1)  # Outputs: '1984' by George Orwell, 328 pages\nprint(book2)  # Outputs: 'Brave New World' by Aldous Huxley, 268 pages\n\n# Using __add__\ntotal_pages = book1 + book2  # Adds the pages of the two books\nprint(f\"Total pages: {total_pages}\")\n",
      "metadata": {},
      "outputs": [
        {
          "name": "stdout",
          "output_type": "stream",
          "text": [
            "'1984' by George Orwell, 328 pages\n",
            "'Brave New World' by Aldous Huxley, 268 pages\n",
            "Total pages: 596\n"
          ]
        }
      ],
      "execution_count": 12
    },
    {
      "id": "fafc57a6-2417-4259-90f9-f3b37d0bd51a",
      "cell_type": "raw",
      "source": "__str__: This method allows you to define a custom string representation of the object. When you use print() or str() on an instance of the class, it will display the result of __str__.\n\n__add__: This method allows you to define how two objects of the class should behave when they are added using the + operator. In this example, it sums up the pages attribute of two Book objects.",
      "metadata": {}
    },
    {
      "id": "a735903f-337c-41e0-8ab1-14269901e075",
      "cell_type": "code",
      "source": "# 12. Create a decorator that measures and prints the execution time of a function.\n\n# Decorator that measures and prints the execution time of a function:\n\nimport time\n\ndef execution_time_decorator(func):\n    def wrapper(*args, **kwargs):\n        start_time = time.time()  # Record the start time\n        result = func(*args, **kwargs)  # Execute the function\n        end_time = time.time()  # Record the end time\n        execution_time = end_time - start_time  # Calculate the execution time\n        print(f\"Execution time: {execution_time:.4f} seconds\")\n        return result\n    return wrapper\n",
      "metadata": {},
      "outputs": [],
      "execution_count": 13
    },
    {
      "id": "0edea9df-6262-4743-8a3a-49a3e70436e0",
      "cell_type": "code",
      "source": "@execution_time_decorator\ndef some_function():\n    time.sleep(2)  # Simulate a time-consuming task\n    print(\"Function execution complete.\")\n\n# Call the decorated function\nsome_function()\n",
      "metadata": {},
      "outputs": [
        {
          "name": "stdout",
          "output_type": "stream",
          "text": [
            "Function execution complete.\n",
            "Execution time: 2.0022 seconds\n"
          ]
        }
      ],
      "execution_count": 14
    },
    {
      "id": "3152bf67-d53c-4c93-8002-aa593322e1e6",
      "cell_type": "code",
      "source": "#13. Explain the concept of the Diamond Problem in multiple inheritance. How does Python resolve it?",
      "metadata": {},
      "outputs": [],
      "execution_count": null
    },
    {
      "id": "5a73f46b-d63c-4ae9-b9c2-fd77530ac54a",
      "cell_type": "markdown",
      "source": "The Diamond Problem occurs in object-oriented programming languages that support multiple inheritance. It arises when a class inherits from two or more classes that have a common ancestor, forming a diamond-shaped inheritance structure. The ambiguity stems from the fact that it can be unclear which implementation of a method or attribute from the ancestor classes should be used in the child class.",
      "metadata": {}
    },
    {
      "id": "6b854244-2b6e-4777-a4cb-f900ee4fdd62",
      "cell_type": "code",
      "source": "class A:\n    def greet(self):\n        print(\"Hello from A\")\n\nclass B(A):\n    def greet(self):\n        print(\"Hello from B\")\n\nclass C(A):\n    def greet(self):\n        print(\"Hello from C\")\n\nclass D(B, C):\n    pass\n",
      "metadata": {
        "trusted": true
      },
      "outputs": [],
      "execution_count": 1
    },
    {
      "id": "9eb59921-0509-4b2f-8c8d-281f0ba9226e",
      "cell_type": "markdown",
      "source": "D inherits from both B and C.\nB and C both inherit from A.\n\nPython resolves the Diamond Problem using a method resolution order (MRO), which follows the C3 linearization algorithm. The MRO is the order in which Python searches for a method in the inheritance hierarchy. It ensures that each method or attribute is called only once and that the child classes have priority over parent classes.",
      "metadata": {}
    },
    {
      "id": "6c71210d-12a5-4d46-a12d-970bd7c41f31",
      "cell_type": "code",
      "source": "print(D.__mro__)\n# Or\nprint(D.mro())\n",
      "metadata": {
        "trusted": true
      },
      "outputs": [
        {
          "name": "stdout",
          "text": "(<class '__main__.D'>, <class '__main__.B'>, <class '__main__.C'>, <class '__main__.A'>, <class 'object'>)\n[<class '__main__.D'>, <class '__main__.B'>, <class '__main__.C'>, <class '__main__.A'>, <class 'object'>]\n",
          "output_type": "stream"
        }
      ],
      "execution_count": 3
    },
    {
      "id": "8e806370-f342-40a8-846b-4ba845f6f4fd",
      "cell_type": "code",
      "source": "# 14. Write a class method that keeps track of the number of instances created from a class.\n\n#To keep track of the number of instances created from a class, you can use a class attribute and a class method. Here's how you can implement this:\n\nclass InstanceCounter:\n    instance_count = 0  # Class attribute to keep track of instance count\n    \n    def __init__(self):\n        InstanceCounter.instance_count += 1  # Increment the count whenever a new instance is created\n    \n    @classmethod\n    def get_instance_count(cls):\n        return cls.instance_count  # Class method to return the current count\n",
      "metadata": {},
      "outputs": [],
      "execution_count": 15
    },
    {
      "id": "8fd6c1ea-9c7f-4abc-8e9f-81e3486e76e0",
      "cell_type": "code",
      "source": "# Creating instances of the class\nobj1 = InstanceCounter()\nobj2 = InstanceCounter()\nobj3 = InstanceCounter()\n\n# Using the class method to check the number of instances\nprint(f\"Number of instances created: {InstanceCounter.get_instance_count()}\")\n",
      "metadata": {},
      "outputs": [
        {
          "name": "stdout",
          "output_type": "stream",
          "text": [
            "Number of instances created: 3\n"
          ]
        }
      ],
      "execution_count": 16
    },
    {
      "id": "a1ceb1ae-a06e-46eb-a169-e9bd74fe9e9d",
      "cell_type": "code",
      "source": "# 15. Implement a static method in a class that checks if a given year is a leap year.\n\n# we can implement a static method in a class that checks if a given year is a leap year:\n\nclass YearUtility:\n    \n    @staticmethod\n    def is_leap_year(year):\n        if (year % 4 == 0 and year % 100 != 0) or (year % 400 == 0):\n            return True\n        return False\n",
      "metadata": {},
      "outputs": [],
      "execution_count": 17
    },
    {
      "id": "47abd253-caf8-45c3-bcf1-2dc6fe830a8f",
      "cell_type": "code",
      "source": "print(YearUtility.is_leap_year(2024))  \nprint(YearUtility.is_leap_year(2023))  \nprint(YearUtility.is_leap_year(1900))  \nprint(YearUtility.is_leap_year(2000))  \n",
      "metadata": {},
      "outputs": [
        {
          "name": "stdout",
          "output_type": "stream",
          "text": [
            "True\n",
            "False\n",
            "False\n",
            "True\n"
          ]
        }
      ],
      "execution_count": 18
    },
    {
      "id": "3f94e71d-ccdc-4ebd-8ba8-af418f28a3f2",
      "cell_type": "code",
      "source": "",
      "metadata": {},
      "outputs": [],
      "execution_count": null
    }
  ]
}